{
 "cells": [
  {
   "cell_type": "markdown",
   "metadata": {},
   "source": [
    "# ファイルの読み書き"
   ]
  },
  {
   "cell_type": "markdown",
   "metadata": {},
   "source": [
    "1. ディレクトリ・ファイルの作成"
   ]
  },
  {
   "cell_type": "code",
   "execution_count": 2,
   "metadata": {},
   "outputs": [],
   "source": [
    "#ディレクトリの作成\n",
    "import os\n",
    "\n",
    "dir_name = \"test\"\n",
    "if not os.path.exists(dir_name):\n",
    "    os.mkdir(dir_name)"
   ]
  },
  {
   "cell_type": "code",
   "execution_count": 4,
   "metadata": {},
   "outputs": [],
   "source": [
    "#テキストファイルの作成\n",
    "import os\n",
    "import codecs\n",
    "\n",
    "for i in range(10):\n",
    "    f = codecs.open(\"test/%03d.txt\" %i, \"w\")\n",
    "    f.write(str(i))\n",
    "    f.close()"
   ]
  },
  {
   "cell_type": "code",
   "execution_count": 9,
   "metadata": {},
   "outputs": [
    {
     "name": "stdout",
     "output_type": "stream",
     "text": [
      "['test\\\\000.txt', 'test\\\\001.txt', 'test\\\\002.txt', 'test\\\\003.txt', 'test\\\\004.txt', 'test\\\\005.txt', 'test\\\\006.txt', 'test\\\\007.txt', 'test\\\\008.txt', 'test\\\\009.txt', 'test\\\\copy.txt']\n"
     ]
    }
   ],
   "source": [
    "#ディレクトリ内にあるテキストファイルのリストを取得\n",
    "import glob\n",
    "\n",
    "#txtファイルを取得\n",
    "Files = glob.glob(\"test/*.txt\")\n",
    "print(Files)"
   ]
  },
  {
   "cell_type": "code",
   "execution_count": 12,
   "metadata": {},
   "outputs": [
    {
     "data": {
      "text/plain": [
       "'test/copy.txt'"
      ]
     },
     "execution_count": 12,
     "metadata": {},
     "output_type": "execute_result"
    }
   ],
   "source": [
    "#ファイルのコピー\n",
    "import shutil\n",
    "\n",
    "shutil.copy(\"test/005.txt\", \"test/copy.txt\")"
   ]
  },
  {
   "cell_type": "code",
   "execution_count": 13,
   "metadata": {},
   "outputs": [],
   "source": [
    "#ディレクトリのコピー\n",
    "import shutil\n",
    "\n",
    "dir_name = \"test_copy\"\n",
    "if not os.path.exists(dir_name):\n",
    "    shutil.copytree(\"test\", dir_name)"
   ]
  },
  {
   "cell_type": "markdown",
   "metadata": {},
   "source": [
    "2. ファイルへの保存"
   ]
  },
  {
   "cell_type": "code",
   "execution_count": 16,
   "metadata": {},
   "outputs": [
    {
     "name": "stdout",
     "output_type": "stream",
     "text": [
      "['0', '1', '2', '3', '4', '5', '6', '7', '8', '9', '10']\n"
     ]
    }
   ],
   "source": [
    "#リストの値を改行区切りでファイルに保存(utf8)\n",
    "import codecs\n",
    "\n",
    "a = [str(i) for i in range(0, 11)]\n",
    "print(a)\n",
    "\n",
    "f = codecs.open(\"test.txt\", \"w\", \"utf8\")\n",
    "for i in a:\n",
    "    f.write(i)\n",
    "    f.write(\"\\n\")\n",
    "    \n",
    "f.close()"
   ]
  },
  {
   "cell_type": "code",
   "execution_count": 14,
   "metadata": {},
   "outputs": [
    {
     "name": "stdout",
     "output_type": "stream",
     "text": [
      "[0, 1, 2, 3, 4, 5, 6, 7, 8, 9, 10]\n"
     ]
    }
   ],
   "source": [
    "#リストの値を改行区切りでファイルに保存(sjis)\n",
    "import codecs\n",
    "\n",
    "a = list(range(0, 11))\n",
    "print(a)\n",
    "\n",
    "f = codecs.open(\"test02.txt\", \"w\", \"sjis\")\n",
    "for i in a:\n",
    "    f.write(i)\n",
    "    f.write(\"\\n\")\n",
    "    \n",
    "f.close()"
   ]
  },
  {
   "cell_type": "markdown",
   "metadata": {},
   "source": [
    "3. ファイルの内容を表示"
   ]
  },
  {
   "cell_type": "code",
   "execution_count": 15,
   "metadata": {},
   "outputs": [
    {
     "name": "stdout",
     "output_type": "stream",
     "text": [
      "0\n",
      "1\n",
      "2\n",
      "3\n",
      "4\n",
      "5\n",
      "6\n",
      "7\n",
      "8\n",
      "9\n",
      "10\n"
     ]
    }
   ],
   "source": [
    "#一行ずつ読み込んで表示\n",
    "import codecs\n",
    "f = codecs.open(\"test.txt\", \"r\", \"utf8\")\n",
    "\n",
    "for line in f.readlines():\n",
    "    line = line.replace(\"\\n\", \"\")\n",
    "    print(line)\n",
    "    \n",
    "f.close()"
   ]
  },
  {
   "cell_type": "code",
   "execution_count": 20,
   "metadata": {},
   "outputs": [
    {
     "name": "stdout",
     "output_type": "stream",
     "text": [
      "0\n",
      "1\n",
      "2\n",
      "3\n",
      "4\n",
      "5\n",
      "6\n",
      "7\n",
      "8\n",
      "9\n",
      "10\n",
      "\n"
     ]
    }
   ],
   "source": [
    "#ファイルを1つの文字列として読み込み\n",
    "import codecs\n",
    "f = codecs.open(\"test02.txt\", \"r\", \"sjis\")\n",
    "txt = f.read()\n",
    "f.close()\n",
    "\n",
    "print(txt)"
   ]
  },
  {
   "cell_type": "code",
   "execution_count": null,
   "metadata": {},
   "outputs": [],
   "source": []
  }
 ],
 "metadata": {
  "kernelspec": {
   "display_name": "Python 3",
   "language": "python",
   "name": "python3"
  },
  "language_info": {
   "codemirror_mode": {
    "name": "ipython",
    "version": 3
   },
   "file_extension": ".py",
   "mimetype": "text/x-python",
   "name": "python",
   "nbconvert_exporter": "python",
   "pygments_lexer": "ipython3",
   "version": "3.6.9"
  }
 },
 "nbformat": 4,
 "nbformat_minor": 2
}
